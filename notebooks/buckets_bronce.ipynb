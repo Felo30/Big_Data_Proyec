{
 "cells": [
  {
   "cell_type": "code",
   "execution_count": 2,
   "id": "5d9f0695",
   "metadata": {},
   "outputs": [
    {
     "data": {
      "text/plain": [
       "'\\n================================================================================\\nNombre del Script: guardar_csv_bronze.py\\nAutor: Félix Cárdenas\\nFecha de Creación: 2025-05-08\\nÚltima Modificación: 2025-05-08\\nVersión: 1.0.0\\n\\nDescripción:\\nEste script forma parte de la capa BRONZE del proyecto BigData_Project.\\nLee un archivo CSV local con Spark, lo convierte a Pandas y lo guarda en el\\nbucket `dev-bronze` de MinIO con una estructura basada en origen y nombre del archivo.\\n\\nDependencias:\\n- Python >= 3.8\\n- Librerías: pandas, boto3, dotenv, pyspark\\n'"
      ]
     },
     "execution_count": 2,
     "metadata": {},
     "output_type": "execute_result"
    }
   ],
   "source": [
    "\"\"\"\n",
    "================================================================================\n",
    "Nombre del Script: guardar_csv_bronze.py\n",
    "Autor: Félix Cárdenas\n",
    "Fecha de Creación: 2025-05-08\n",
    "Última Modificación: 2025-05-08\n",
    "Versión: 1.0.0\n",
    "\n",
    "Descripción:\n",
    "Este script forma parte de la capa BRONZE del proyecto BigData_Project.\n",
    "Lee un archivo CSV local con Spark, lo convierte a Pandas y lo guarda en el\n",
    "bucket `dev-bronze` de MinIO con una estructura basada en origen y nombre del archivo.\n",
    "\n",
    "Dependencias:\n",
    "- Python >= 3.8\n",
    "- Librerías: pandas, boto3, dotenv, pyspark\n",
    "\"\"\""
   ]
  },
  {
   "cell_type": "code",
   "execution_count": 3,
   "id": "9860a80b",
   "metadata": {},
   "outputs": [],
   "source": [
    "# ================================================================================\n",
    "# PASO 1: IMPORTACIÓN DE LIBRERÍAS\n",
    "# ================================================================================\n",
    "import os\n",
    "import logging\n",
    "from io import BytesIO\n",
    "from datetime import datetime\n",
    "from dotenv import load_dotenv\n",
    "import boto3\n",
    "import pandas as pd\n",
    "from pyspark.sql import SparkSession\n",
    "from pathlib import Path"
   ]
  },
  {
   "cell_type": "code",
   "execution_count": 4,
   "id": "9a60d64c",
   "metadata": {},
   "outputs": [],
   "source": [
    "# ================================================================================\n",
    "# PASO 2: CARGA DE VARIABLES DE ENTORNO\n",
    "# ================================================================================\n",
    "\n",
    "# Cargar las variables definidas en el archivo .env\n",
    "load_dotenv(\"/home/jovyan/.env\")\n",
    "\n",
    "# Ruta local del archivo a cargar\n",
    "ruta_csv_local     = \"/home/jovyan/datos/csv/pacientes_crudo.csv\"\n",
    "\n",
    "# Parámetros MinIO\n",
    "MINIO_ENDPOINT     = os.getenv(\"MINIO_ENDPOINT\")\n",
    "MINIO_ACCESS_KEY   = os.getenv(\"MINIO_ROOT_USER\")\n",
    "MINIO_SECRET_KEY   = os.getenv(\"MINIO_ROOT_PASSWORD\")\n",
    "BUCKET_BRONZE      = os.getenv(\"MINIO_BUCKET_BRONZE\")\n",
    "\n",
    "# ===> Nombre base del archivo (sin extensión)\n",
    "nombre_archivo_base = Path(ruta_csv_local).stem \n",
    "\n",
    "# ===> Dominio extraído del nombre: lo que esté antes del guion bajo\n",
    "dominio = nombre_archivo_base.split(\"_\")[0].lower()  \n",
    "\n",
    "# ===> Carpeta MinIO: siempre LOCAL_{dominio.upper()}\n",
    "carpeta_destino = f\"LOCAL_{dominio.upper()}\" \n",
    "\n",
    "# ===> Timestamp actual\n",
    "timestamp = datetime.now().strftime(\"%Y%m%d%H%M\")\n",
    "\n",
    "# ===> Nombre final del archivo\n",
    "nombre_archivo = f\"{nombre_archivo_base}_{timestamp}.csv\"  \n",
    "\n",
    "# ===> Ruta final en MinIO (clave)\n",
    "key_minio = f\"{carpeta_destino}/{nombre_archivo}\""
   ]
  },
  {
   "cell_type": "code",
   "execution_count": 5,
   "id": "1dd448bd",
   "metadata": {},
   "outputs": [
    {
     "name": "stderr",
     "output_type": "stream",
     "text": [
      "Setting default log level to \"WARN\".\n",
      "To adjust logging level use sc.setLogLevel(newLevel). For SparkR, use setLogLevel(newLevel).\n",
      "25/05/10 19:22:15 WARN NativeCodeLoader: Unable to load native-hadoop library for your platform... using builtin-java classes where applicable\n"
     ]
    }
   ],
   "source": [
    "# ================================================================================\n",
    "# PASO 3: LECTURA CON SPARK Y CONVERSIÓN A PANDAS\n",
    "# ================================================================================\n",
    "spark = SparkSession.builder \\\n",
    "    .appName(\"Guardar CSV en MinIO\") \\\n",
    "    .getOrCreate()\n",
    "\n",
    "df_spark = spark.read.option(\"header\", True).csv(ruta_csv_local)\n",
    "df_pandas = df_spark.toPandas()\n"
   ]
  },
  {
   "cell_type": "code",
   "execution_count": 6,
   "id": "9dd1617e",
   "metadata": {},
   "outputs": [],
   "source": [
    "# ================================================================================\n",
    "# PASO 4: GUARDADO EN MINIO CON BOTO3\n",
    "# ================================================================================\n",
    "s3 = boto3.client(\n",
    "    \"s3\",\n",
    "    endpoint_url=MINIO_ENDPOINT,\n",
    "    aws_access_key_id=MINIO_ACCESS_KEY,\n",
    "    aws_secret_access_key=MINIO_SECRET_KEY\n",
    ")\n",
    "\n",
    "buffer = BytesIO()\n",
    "df_pandas.to_csv(buffer, index=False)\n",
    "buffer.seek(0)\n",
    "\n",
    "s3.upload_fileobj(buffer, BUCKET_BRONZE, key_minio)"
   ]
  }
 ],
 "metadata": {
  "kernelspec": {
   "display_name": "Python 3 (ipykernel)",
   "language": "python",
   "name": "python3"
  },
  "language_info": {
   "codemirror_mode": {
    "name": "ipython",
    "version": 3
   },
   "file_extension": ".py",
   "mimetype": "text/x-python",
   "name": "python",
   "nbconvert_exporter": "python",
   "pygments_lexer": "ipython3",
   "version": "3.11.6"
  }
 },
 "nbformat": 4,
 "nbformat_minor": 5
}
