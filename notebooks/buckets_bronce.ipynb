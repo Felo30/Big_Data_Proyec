{
 "cells": [
  {
   "cell_type": "code",
   "execution_count": 40,
   "id": "5d9f0695",
   "metadata": {},
   "outputs": [
    {
     "data": {
      "text/plain": [
       "'\\n================================================================================\\nNombre del Script: guardar_csv_bronze.py\\nAutor: Félix Cárdenas\\nFecha de Creación: 2025-05-08\\nÚltima Modificación: 2025-05-08\\nVersión: 1.0.0\\n\\nDescripción:\\nEste script forma parte de la capa BRONZE del proyecto BigData_Project.\\nLee un archivo CSV local con Spark, lo convierte a Pandas y lo guarda en el\\nbucket `dev-bronze` de MinIO con una estructura basada en origen y nombre del archivo.\\n\\nDependencias:\\n- Python >= 3.8\\n- Librerías: pandas, boto3, dotenv, pyspark\\n'"
      ]
     },
     "execution_count": 40,
     "metadata": {},
     "output_type": "execute_result"
    }
   ],
   "source": [
    "\"\"\"\n",
    "================================================================================\n",
    "Nombre del Script: guardar_csv_bronze.py\n",
    "Autor: Félix Cárdenas\n",
    "Fecha de Creación: 2025-05-08\n",
    "Última Modificación: 2025-05-08\n",
    "Versión: 1.0.0\n",
    "\n",
    "Descripción:\n",
    "Este script forma parte de la capa BRONZE del proyecto BigData_Project.\n",
    "Lee un archivo CSV local con Spark, lo convierte a Pandas y lo guarda en el\n",
    "bucket `dev-bronze` de MinIO con una estructura basada en origen y nombre del archivo.\n",
    "\n",
    "Dependencias:\n",
    "- Python >= 3.8\n",
    "- Librerías: pandas, boto3, dotenv, pyspark\n",
    "\"\"\""
   ]
  },
  {
   "cell_type": "code",
   "execution_count": 41,
   "id": "9860a80b",
   "metadata": {},
   "outputs": [],
   "source": [
    "# ================================================================================\n",
    "# PASO 1: IMPORTACIÓN DE LIBRERÍAS\n",
    "# ================================================================================\n",
    "import os\n",
    "import logging\n",
    "from io import BytesIO\n",
    "from datetime import datetime\n",
    "from dotenv import load_dotenv\n",
    "import boto3\n",
    "import pandas as pd\n",
    "from pyspark.sql import SparkSession\n",
    "from pathlib import Path"
   ]
  },
  {
   "cell_type": "code",
   "execution_count": 42,
   "id": "9a60d64c",
   "metadata": {},
   "outputs": [],
   "source": [
    "# ================================================================================\n",
    "# PASO 2: CARGA DE VARIABLES DE ENTORNO\n",
    "# ================================================================================\n",
    "\n",
    "# Parámetros MinIO\n",
    "MINIO_ENDPOINT     = os.getenv(\"MINIO_ENDPOINT\")\n",
    "MINIO_ACCESS_KEY   = os.getenv(\"MINIO_ROOT_USER\")\n",
    "MINIO_SECRET_KEY   = os.getenv(\"MINIO_ROOT_PASSWORD\")\n",
    "BUCKET_BRONZE      = os.getenv(\"MINIO_BUCKET_BRONZE\")\n",
    "\n",
    "# Ruta local del archivo a cargar\n",
    "ruta_csv_local     = \"/home/jovyan/datos/csv/pacientes_crudo.csv\"\n",
    "\n",
    "# Cargar las variables definidas en el archivo .env\n",
    "load_dotenv(\"/home/jovyan/.env\")\n",
    "\n",
    "# ===> Nombre base del archivo (sin extensión)\n",
    "nombre_archivo_base = Path(ruta_csv_local).stem \n",
    "\n",
    "# ===> Dominio extraído del nombre: lo que esté antes del guion bajo\n",
    "dominio = nombre_archivo_base.split(\"_\")[0].lower()  \n",
    "\n",
    "# ===> Carpeta MinIO: siempre LOCAL_{dominio.upper()}\n",
    "carpeta_destino = f\"LOCAL_{dominio.upper()}\" \n",
    "\n",
    "# ===> Timestamp actual\n",
    "timestamp = datetime.now().strftime(\"%Y%m%d%H%M\")\n",
    "\n",
    "# ===> Nombre final del archivo\n",
    "nombre_archivo = f\"{nombre_archivo_base}_{timestamp}.csv\"  \n",
    "\n",
    "# ===> Ruta final en MinIO (clave)\n",
    "key_minio = f\"{carpeta_destino}/{nombre_archivo}\""
   ]
  },
  {
   "cell_type": "code",
   "execution_count": null,
   "id": "1dd448bd",
   "metadata": {},
   "outputs": [
    {
     "name": "stderr",
     "output_type": "stream",
     "text": [
      "25/05/09 15:27:24 INFO InMemoryFileIndex: It took 7 ms to list leaf files for 1 paths.\n",
      "25/05/09 15:27:24 INFO InMemoryFileIndex: It took 7 ms to list leaf files for 1 paths.\n",
      "25/05/09 15:27:24 INFO FileSourceStrategy: Pushed Filters: \n",
      "25/05/09 15:27:24 INFO FileSourceStrategy: Post-Scan Filters: (length(trim(value#165, None)) > 0)\n",
      "25/05/09 15:27:24 INFO MemoryStore: Block broadcast_22 stored as values in memory (estimated size 201.6 KiB, free 434.0 MiB)\n",
      "25/05/09 15:27:24 INFO MemoryStore: Block broadcast_22_piece0 stored as bytes in memory (estimated size 35.0 KiB, free 433.9 MiB)\n",
      "25/05/09 15:27:24 INFO BlockManagerInfo: Added broadcast_22_piece0 in memory on 41a730c8830f:35003 (size: 35.0 KiB, free: 434.3 MiB)\n",
      "25/05/09 15:27:24 INFO SparkContext: Created broadcast 22 from csv at NativeMethodAccessorImpl.java:0\n",
      "25/05/09 15:27:24 INFO FileSourceScanExec: Planning scan with bin packing, max size: 4194304 bytes, open cost is considered as scanning 4194304 bytes.\n",
      "25/05/09 15:27:24 INFO SparkContext: Starting job: csv at NativeMethodAccessorImpl.java:0\n",
      "25/05/09 15:27:24 INFO DAGScheduler: Got job 11 (csv at NativeMethodAccessorImpl.java:0) with 1 output partitions\n",
      "25/05/09 15:27:24 INFO DAGScheduler: Final stage: ResultStage 11 (csv at NativeMethodAccessorImpl.java:0)\n",
      "25/05/09 15:27:24 INFO DAGScheduler: Parents of final stage: List()\n",
      "25/05/09 15:27:24 INFO DAGScheduler: Missing parents: List()\n",
      "25/05/09 15:27:24 INFO DAGScheduler: Submitting ResultStage 11 (MapPartitionsRDD[57] at csv at NativeMethodAccessorImpl.java:0), which has no missing parents\n",
      "25/05/09 15:27:24 INFO MemoryStore: Block broadcast_23 stored as values in memory (estimated size 13.5 KiB, free 433.9 MiB)\n",
      "25/05/09 15:27:24 INFO MemoryStore: Block broadcast_23_piece0 stored as bytes in memory (estimated size 6.4 KiB, free 433.9 MiB)\n",
      "25/05/09 15:27:24 INFO BlockManagerInfo: Added broadcast_23_piece0 in memory on 41a730c8830f:35003 (size: 6.4 KiB, free: 434.3 MiB)\n",
      "25/05/09 15:27:24 INFO SparkContext: Created broadcast 23 from broadcast at DAGScheduler.scala:1585\n",
      "25/05/09 15:27:24 INFO DAGScheduler: Submitting 1 missing tasks from ResultStage 11 (MapPartitionsRDD[57] at csv at NativeMethodAccessorImpl.java:0) (first 15 tasks are for partitions Vector(0))\n",
      "25/05/09 15:27:24 INFO TaskSchedulerImpl: Adding task set 11.0 with 1 tasks resource profile 0\n",
      "25/05/09 15:27:24 INFO TaskSetManager: Starting task 0.0 in stage 11.0 (TID 51) (41a730c8830f, executor driver, partition 0, PROCESS_LOCAL, 9611 bytes) \n",
      "25/05/09 15:27:24 INFO Executor: Running task 0.0 in stage 11.0 (TID 51)\n",
      "25/05/09 15:27:24 INFO FileScanRDD: Reading File path: file:///home/jovyan/datos/csv/pacientes_crudo.csv, range: 0-4194304, partition values: [empty row]\n",
      "25/05/09 15:27:24 INFO Executor: Finished task 0.0 in stage 11.0 (TID 51). 1609 bytes result sent to driver\n",
      "25/05/09 15:27:24 INFO TaskSetManager: Finished task 0.0 in stage 11.0 (TID 51) in 20 ms on 41a730c8830f (executor driver) (1/1)\n",
      "25/05/09 15:27:24 INFO TaskSchedulerImpl: Removed TaskSet 11.0, whose tasks have all completed, from pool \n",
      "25/05/09 15:27:24 INFO DAGScheduler: ResultStage 11 (csv at NativeMethodAccessorImpl.java:0) finished in 0.025 s\n",
      "25/05/09 15:27:24 INFO DAGScheduler: Job 11 is finished. Cancelling potential speculative or zombie tasks for this job\n",
      "25/05/09 15:27:24 INFO TaskSchedulerImpl: Killing all running tasks in stage 11: Stage finished\n",
      "25/05/09 15:27:24 INFO DAGScheduler: Job 11 finished: csv at NativeMethodAccessorImpl.java:0, took 0.028062 s\n",
      "25/05/09 15:27:24 INFO FileSourceStrategy: Pushed Filters: \n",
      "25/05/09 15:27:24 INFO FileSourceStrategy: Post-Scan Filters: \n",
      "25/05/09 15:27:24 INFO MemoryStore: Block broadcast_24 stored as values in memory (estimated size 201.6 KiB, free 433.7 MiB)\n",
      "25/05/09 15:27:24 INFO MemoryStore: Block broadcast_24_piece0 stored as bytes in memory (estimated size 35.0 KiB, free 433.7 MiB)\n",
      "25/05/09 15:27:24 INFO BlockManagerInfo: Added broadcast_24_piece0 in memory on 41a730c8830f:35003 (size: 35.0 KiB, free: 434.3 MiB)\n",
      "25/05/09 15:27:24 INFO SparkContext: Created broadcast 24 from csv at NativeMethodAccessorImpl.java:0\n",
      "25/05/09 15:27:24 INFO FileSourceScanExec: Planning scan with bin packing, max size: 4194304 bytes, open cost is considered as scanning 4194304 bytes.\n"
     ]
    }
   ],
   "source": [
    "# ================================================================================\n",
    "# PASO 3: LECTURA CON SPARK Y CONVERSIÓN A PANDAS\n",
    "# ================================================================================\n",
    "spark = SparkSession.builder \\\n",
    "    .appName(\"Guardar CSV en MinIO\") \\\n",
    "    .getOrCreate()\n",
    "\n",
    "df_spark = spark.read.option(\"header\", True).csv(ruta_csv_local)\n",
    "df_pandas = df_spark.toPandas()\n"
   ]
  },
  {
   "cell_type": "code",
   "execution_count": 45,
   "id": "9dd1617e",
   "metadata": {},
   "outputs": [],
   "source": [
    "# ================================================================================\n",
    "# PASO 4: GUARDADO EN MINIO CON BOTO3\n",
    "# ================================================================================\n",
    "s3 = boto3.client(\n",
    "    \"s3\",\n",
    "    endpoint_url=MINIO_ENDPOINT,\n",
    "    aws_access_key_id=MINIO_ACCESS_KEY,\n",
    "    aws_secret_access_key=MINIO_SECRET_KEY\n",
    ")\n",
    "\n",
    "buffer = BytesIO()\n",
    "df_pandas.to_csv(buffer, index=False)\n",
    "buffer.seek(0)\n",
    "\n",
    "s3.upload_fileobj(buffer, BUCKET_BRONZE, key_minio)"
   ]
  }
 ],
 "metadata": {
  "kernelspec": {
   "display_name": "Python 3 (ipykernel)",
   "language": "python",
   "name": "python3"
  },
  "language_info": {
   "codemirror_mode": {
    "name": "ipython",
    "version": 3
   },
   "file_extension": ".py",
   "mimetype": "text/x-python",
   "name": "python",
   "nbconvert_exporter": "python",
   "pygments_lexer": "ipython3",
   "version": "3.11.6"
  }
 },
 "nbformat": 4,
 "nbformat_minor": 5
}
