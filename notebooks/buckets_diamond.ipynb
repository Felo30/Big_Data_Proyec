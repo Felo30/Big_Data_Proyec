{
 "cells": [
  {
   "cell_type": "code",
   "execution_count": 9,
   "id": "4d0606c6",
   "metadata": {},
   "outputs": [
    {
     "data": {
      "text/plain": [
       "'\\n================================================================================\\nNombre del Script: cargar_pacientes_diamond.py\\nAutor: Félix Cárdenas\\nFecha de Creación: 2025-05-10\\nÚltima Modificación: 2025-05-15\\nVersión: 2.0.0\\n\\nDescripción:\\nEste script forma parte de la capa DIAMOND del proyecto BigData_Project.\\nLee el archivo refinado desde MinIO (dev-diamond), infiere el esquema con Spark,\\ncrea la tabla si no existe en PostgreSQL y realiza la inserción con COPY. Finalmente,\\nhace un respaldo del archivo en el bucket dev-gold.\\n\\nDependencias:\\n- Python >= 3.8\\n- Librerías: pyspark, boto3, dotenv, psycopg2, logging\\n'"
      ]
     },
     "execution_count": 9,
     "metadata": {},
     "output_type": "execute_result"
    }
   ],
   "source": [
    "\"\"\"\n",
    "================================================================================\n",
    "Nombre del Script: cargar_pacientes_diamond.py\n",
    "Autor: Félix Cárdenas\n",
    "Fecha de Creación: 2025-05-10\n",
    "Última Modificación: 2025-05-15\n",
    "Versión: 2.0.0\n",
    "\n",
    "Descripción:\n",
    "Este script forma parte de la capa DIAMOND del proyecto BigData_Project.\n",
    "Lee el archivo refinado desde MinIO (dev-diamond), infiere el esquema con Spark,\n",
    "crea la tabla si no existe en PostgreSQL y realiza la inserción con COPY. Finalmente,\n",
    "hace un respaldo del archivo en el bucket dev-gold.\n",
    "\n",
    "Dependencias:\n",
    "- Python >= 3.8\n",
    "- Librerías: pyspark, boto3, dotenv, psycopg2, logging\n",
    "\"\"\""
   ]
  },
  {
   "cell_type": "code",
   "execution_count": 10,
   "id": "07b8c8b5",
   "metadata": {},
   "outputs": [],
   "source": [
    "# ================================================================================\n",
    "# PASO 1: IMPORTACIÓN DE LIBRERÍAS\n",
    "# ================================================================================\n",
    "import os\n",
    "import logging\n",
    "from datetime import datetime\n",
    "from io import BytesIO\n",
    "from dotenv import load_dotenv\n",
    "import boto3\n",
    "import psycopg2\n",
    "from pyspark.sql import SparkSession"
   ]
  },
  {
   "cell_type": "code",
   "execution_count": 11,
   "id": "05fbc653",
   "metadata": {},
   "outputs": [],
   "source": [
    "# ================================================================================\n",
    "# PASO 2: CARGA DE VARIABLES Y CONFIGURACIÓN\n",
    "# ================================================================================\n",
    "load_dotenv(\"/home/jovyan/.env\")\n",
    "logging.basicConfig(level=logging.INFO, format=\"%(asctime)s - %(levelname)s - %(message)s\")\n",
    "\n",
    "BUCKET_DIAMOND    = os.getenv(\"MINIO_BUCKET_DIAMOND\")\n",
    "BUCKET_GOLD       = os.getenv(\"MINIO_BUCKET_GOLD\")\n",
    "MINIO_ENDPOINT    = os.getenv(\"MINIO_ENDPOINT\")\n",
    "MINIO_ACCESS_KEY  = os.getenv(\"MINIO_ROOT_USER\")\n",
    "MINIO_SECRET_KEY  = os.getenv(\"MINIO_ROOT_PASSWORD\")\n",
    "\n",
    "POSTGRES_USER     = os.getenv(\"POSTGRES_USER\")\n",
    "POSTGRES_PASSWORD = os.getenv(\"POSTGRES_PASSWORD\")\n",
    "POSTGRES_DB       = os.getenv(\"POSTGRES_DB\")\n",
    "HOST_POSTGRES     = os.getenv(\"HOST_POSTGRES_NBK\")\n",
    "PORT_POSTGRES     = os.getenv(\"PORT_POSTGRES\")\n"
   ]
  },
  {
   "cell_type": "code",
   "execution_count": 12,
   "id": "063d7bc3",
   "metadata": {},
   "outputs": [],
   "source": [
    "# ================================================================================\n",
    "# PASO 3: CREAR SPARKSESSION CON CONEXIÓN S3A\n",
    "# ================================================================================\n",
    "spark = SparkSession.builder \\\n",
    "    .appName(\"Carga DIAMOND a PostgreSQL\") \\\n",
    "    .config(\"spark.hadoop.fs.s3a.endpoint\", MINIO_ENDPOINT) \\\n",
    "    .config(\"spark.hadoop.fs.s3a.access.key\", MINIO_ACCESS_KEY) \\\n",
    "    .config(\"spark.hadoop.fs.s3a.secret.key\", MINIO_SECRET_KEY) \\\n",
    "    .config(\"spark.hadoop.fs.s3a.path.style.access\", \"true\") \\\n",
    "    .config(\"spark.hadoop.fs.s3a.impl\", \"org.apache.hadoop.fs.s3a.S3AFileSystem\") \\\n",
    "    .config(\"spark.jars\", \"/usr/local/spark/jars/hadoop-aws-3.3.4.jar,/usr/local/spark/jars/aws-java-sdk-bundle-1.11.901.jar\") \\\n",
    "    .getOrCreate()"
   ]
  },
  {
   "cell_type": "code",
   "execution_count": 13,
   "id": "92fc3e77",
   "metadata": {},
   "outputs": [
    {
     "name": "stderr",
     "output_type": "stream",
     "text": [
      "2025-05-15 16:04:36,622 - INFO - Archivo parquet encontrado: s3a://dev-diamond/LOCAL_PACIENTES/pacientes_refinados_20250515151200000.parquet\n"
     ]
    }
   ],
   "source": [
    "# ================================================================================\n",
    "# PASO 4: DETECTAR ARCHIVO MÁS RECIENTE EN dev-diamond\n",
    "# ================================================================================\n",
    "s3 = boto3.client(\"s3\", endpoint_url=MINIO_ENDPOINT,\n",
    "                  aws_access_key_id=MINIO_ACCESS_KEY,\n",
    "                  aws_secret_access_key=MINIO_SECRET_KEY)\n",
    "\n",
    "today = datetime.now().strftime(\"%Y%m%d\")\n",
    "prefix = \"LOCAL_PACIENTES/\"\n",
    "response = s3.list_objects_v2(Bucket=BUCKET_DIAMOND, Prefix=prefix)\n",
    "\n",
    "archivos = sorted(\n",
    "    [obj[\"Key\"] for obj in response.get(\"Contents\", []) if today in obj[\"Key\"]],\n",
    "    reverse=True\n",
    ")\n",
    "\n",
    "if not archivos:\n",
    "    raise FileNotFoundError(\"No se encontró ningún archivo Parquet para hoy en DIAMOND\")\n",
    "\n",
    "key_parquet = archivos[0]\n",
    "ruta_s3a_parquet = f\"s3a://{BUCKET_DIAMOND}/{key_parquet}\"\n",
    "logging.info(f\"Archivo parquet encontrado: {ruta_s3a_parquet}\")"
   ]
  },
  {
   "cell_type": "code",
   "execution_count": 14,
   "id": "c0ba4a84",
   "metadata": {},
   "outputs": [],
   "source": [
    "# ================================================================================\n",
    "# PASO 5: LECTURA CON SPARK Y GENERACIÓN DE SCHEMA\n",
    "# ================================================================================\n",
    "df_diamond = spark.read.parquet(ruta_s3a_parquet)\n",
    "schema = df_diamond.schema\n",
    "\n",
    "type_mapping = {\n",
    "    \"StringType\": \"TEXT\", \"IntegerType\": \"INTEGER\", \"LongType\": \"BIGINT\",\n",
    "    \"ShortType\": \"SMALLINT\", \"DoubleType\": \"DOUBLE PRECISION\", \"FloatType\": \"REAL\",\n",
    "    \"BooleanType\": \"BOOLEAN\", \"DateType\": \"DATE\", \"TimestampType\": \"TIMESTAMP\", \"DecimalType\": \"NUMERIC\"\n",
    "}\n",
    "\n",
    "columnas_sql = [\n",
    "    f\"{field.name} {type_mapping.get(type(field.dataType).__name__, 'TEXT')}\"\n",
    "    for field in schema.fields\n",
    "]\n",
    "\n",
    "nombre_tabla = \"pacientes_diamond\"\n"
   ]
  },
  {
   "cell_type": "code",
   "execution_count": 15,
   "id": "12de8f8a",
   "metadata": {},
   "outputs": [
    {
     "name": "stderr",
     "output_type": "stream",
     "text": [
      "2025-05-15 16:04:36,748 - INFO - La tabla 'pacientes_diamond' ya existe. No se insertarán datos.\n"
     ]
    }
   ],
   "source": [
    "# ================================================================================\n",
    "# PASO 6: CREAR TABLA EN POSTGRESQL Y COPIAR DATOS\n",
    "# ================================================================================\n",
    "conn = psycopg2.connect(\n",
    "    host=HOST_POSTGRES,\n",
    "    port=PORT_POSTGRES,\n",
    "    dbname=POSTGRES_DB,\n",
    "    user=POSTGRES_USER,\n",
    "    password=POSTGRES_PASSWORD\n",
    ")\n",
    "cur = conn.cursor()\n",
    "\n",
    "cur.execute(\"\"\"\n",
    "    SELECT EXISTS (\n",
    "        SELECT FROM information_schema.tables \n",
    "        WHERE table_schema = 'public' AND table_name = %s\n",
    "    );\n",
    "\"\"\", (nombre_tabla,))\n",
    "existe = cur.fetchone()[0]\n",
    "\n",
    "if not existe:\n",
    "    columnas_creacion = \",\\n    \".join(columnas_sql)\n",
    "    cur.execute(f\"CREATE TABLE {nombre_tabla} (\\n    {columnas_creacion}\\n);\")\n",
    "    conn.commit()\n",
    "    logging.info(f\"Tabla '{nombre_tabla}' creada correctamente.\")\n",
    "\n",
    "    # Guardar como CSV temporal\n",
    "    ruta_csv = f\"/tmp/{nombre_tabla}.csv\"\n",
    "    df_diamond.repartition(1).write.mode(\"overwrite\").option(\"header\", True).csv(f\"file:///tmp/{nombre_tabla}_dir\")\n",
    "\n",
    "    # Buscar el archivo CSV dentro del folder generado\n",
    "    archivo_csv = next(\n",
    "        f for f in os.listdir(f\"/tmp/{nombre_tabla}_dir\") if f.endswith(\".csv\")\n",
    "    )\n",
    "    with open(f\"/tmp/{nombre_tabla}_dir/{archivo_csv}\", \"r\") as f:\n",
    "        cur.copy_expert(f\"COPY {nombre_tabla} FROM STDIN WITH CSV HEADER\", f)\n",
    "    conn.commit()\n",
    "    logging.info(f\"Datos insertados en '{nombre_tabla}' con COPY.\")\n",
    "else:\n",
    "    logging.info(f\"La tabla '{nombre_tabla}' ya existe. No se insertarán datos.\")\n",
    "\n",
    "cur.close()\n",
    "conn.close()\n"
   ]
  },
  {
   "cell_type": "code",
   "execution_count": 16,
   "id": "56a0a223",
   "metadata": {},
   "outputs": [
    {
     "name": "stderr",
     "output_type": "stream",
     "text": [
      "2025-05-15 16:04:37,514 - INFO - Backup subido a s3://dev-gold/LOCAL_PACIENTES/pacientes_diamond_202505151604.parquet\n"
     ]
    }
   ],
   "source": [
    "# ================================================================================\n",
    "# PASO 7: BACKUP EN MinIO - BUCKET dev-gold\n",
    "# ================================================================================\n",
    "timestamp = datetime.now().strftime(\"%Y%m%d%H%M\")\n",
    "ruta_backup_gold = f\"LOCAL_PACIENTES/{nombre_tabla}_{timestamp}.parquet\"\n",
    "\n",
    "df_diamond.repartition(1).write.mode(\"overwrite\").parquet(f\"s3a://{BUCKET_GOLD}/{ruta_backup_gold}\")\n",
    "logging.info(f\"Backup subido a s3://{BUCKET_GOLD}/{ruta_backup_gold}\")"
   ]
  }
 ],
 "metadata": {
  "kernelspec": {
   "display_name": "Python 3 (ipykernel)",
   "language": "python",
   "name": "python3"
  },
  "language_info": {
   "codemirror_mode": {
    "name": "ipython",
    "version": 3
   },
   "file_extension": ".py",
   "mimetype": "text/x-python",
   "name": "python",
   "nbconvert_exporter": "python",
   "pygments_lexer": "ipython3",
   "version": "3.11.6"
  }
 },
 "nbformat": 4,
 "nbformat_minor": 5
}
