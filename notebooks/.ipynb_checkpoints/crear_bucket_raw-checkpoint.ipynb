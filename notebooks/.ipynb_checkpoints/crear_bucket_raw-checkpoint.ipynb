{
 "cells": [
  {
   "cell_type": "code",
   "execution_count": 9,
   "id": "46b22273",
   "metadata": {},
   "outputs": [],
   "source": [
    "#**Autor:** Félix Cárdenas  \n",
    "#**Fecha de creación:** 2024-05-08  \n",
    "#**Versión:** 1.0.0\n",
    "### Descripción:\n",
    "#Notebook para crear el bucket `raw` en MinIO, donde se almacenarán los archivos crudos del proyecto de datos odontológicos#\n"
   ]
  },
  {
   "cell_type": "code",
   "execution_count": null,
   "id": "62b72b63",
   "metadata": {},
   "outputs": [
    {
     "name": "stdout",
     "output_type": "stream",
     "text": [
      "MINIO_ENDPOINT: http://minio:9000\n",
      "BUCKET_RAW: raw\n",
      "BUCKET_REFINADO: refinado\n",
      "BUCKET_CALIDAD: calidad\n",
      "BUCKET_EXPORTACION: exportacion\n"
     ]
    }
   ],
   "source": [
    "# Librerías estándar y externas\n",
    "import os\n",
    "from dotenv import load_dotenv\n",
    "import boto3\n",
    "from botocore.exceptions import ClientError\n",
    "\n",
    "# Cargar variables desde .env\n",
    "load_dotenv(\"/home/jovyan/.env\")\n",
    "\n",
    "# ----------------------------\n",
    "# Parámetros de entorno\n",
    "# ----------------------------\n",
    "MINIO_ENDPOINT = os.getenv(\"MINIO_ENDPOINT\")\n",
    "MINIO_ACCESS_KEY = os.getenv(\"MINIO_ROOT_USER\")\n",
    "MINIO_SECRET_KEY = os.getenv(\"MINIO_ROOT_PASSWORD\")\n",
    "\n",
    "# Buckets desde el .env\n",
    "BUCKET_RAW = os.getenv(\"MINIO_BUCKET_RAW\")\n",
    "BUCKET_REFINADO = os.getenv(\"MINIO_BUCKET_REFINADO\")\n",
    "BUCKET_CALIDAD = os.getenv(\"MINIO_BUCKET_CALIDAD\")\n",
    "BUCKET_EXPORTACION = os.getenv(\"MINIO_BUCKET_EXPORTACION\")\n"
   ]
  },
  {
   "cell_type": "code",
   "execution_count": null,
   "id": "117c2f39",
   "metadata": {},
   "outputs": [],
   "source": [
    "# ----------------------------\n",
    "# Función genérica para crear un bucket\n",
    "# ----------------------------\n",
    "def crear_bucket(bucket_name: str) -> None:\n",
    "    \"\"\"\n",
    "    Crea un bucket en MinIO si no existe.\n",
    "    \"\"\"\n",
    "    s3 = boto3.client(\n",
    "        \"s3\",\n",
    "        endpoint_url=MINIO_ENDPOINT,\n",
    "        aws_access_key_id=MINIO_ACCESS_KEY,\n",
    "        aws_secret_access_key=MINIO_SECRET_KEY\n",
    "    )\n",
    "\n",
    "    try:\n",
    "        s3.head_bucket(Bucket=bucket_name)\n",
    "        print(f\"✅ El bucket '{bucket_name}' ya existe.\")\n",
    "    except ClientError as e:\n",
    "        error_code = int(e.response[\"Error\"][\"Code\"])\n",
    "        if error_code == 404:\n",
    "            s3.create_bucket(Bucket=bucket_name)\n",
    "            print(f\"🆕 Bucket '{bucket_name}' creado.\")\n",
    "        else:\n",
    "            print(f\"Error al verificar o crear bucket '{bucket_name}': {e}\")\n",
    "\n"
   ]
  },
  {
   "cell_type": "code",
   "execution_count": 20,
   "id": "b1c35279",
   "metadata": {},
   "outputs": [],
   "source": [
    "# ----------------------------\n",
    "# Función para crear todos los buckets\n",
    "# ----------------------------\n",
    "def crear_buckets_requeridos() -> None:\n",
    "    \"\"\"\n",
    "    Crea todos los buckets definidos en las variables de entorno.\n",
    "    \"\"\"\n",
    "    buckets = [BUCKET_RAW, BUCKET_REFINADO, BUCKET_CALIDAD, BUCKET_EXPORTACION]\n",
    "\n",
    "    for bucket in buckets:\n",
    "        if bucket:\n",
    "            crear_bucket(bucket)\n",
    "        else:\n",
    "            print(\"⚠️ Variable de entorno de bucket no definida.\")"
   ]
  },
  {
   "cell_type": "code",
   "execution_count": 22,
   "id": "4c6eea77",
   "metadata": {},
   "outputs": [
    {
     "name": "stdout",
     "output_type": "stream",
     "text": [
      "✅ El bucket 'raw' ya existe.\n",
      "✅ El bucket 'refinado' ya existe.\n",
      "✅ El bucket 'calidad' ya existe.\n",
      "✅ El bucket 'exportacion' ya existe.\n"
     ]
    }
   ],
   "source": [
    "#Ejecución\n",
    "crear_buckets_requeridos()"
   ]
  }
 ],
 "metadata": {
  "kernelspec": {
   "display_name": "Python 3 (ipykernel)",
   "language": "python",
   "name": "python3"
  }
 },
 "nbformat": 4,
 "nbformat_minor": 5
}
