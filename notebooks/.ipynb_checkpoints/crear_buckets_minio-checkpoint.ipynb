{
 "cells": [
  {
   "cell_type": "code",
   "execution_count": 32,
   "id": "46b22273",
   "metadata": {},
   "outputs": [
    {
     "data": {
      "text/plain": [
       "'\\n================================================================================\\nNombre del Script: crear_buckets_minio.py\\nAutor: Félix Cárdenas\\nFecha de Creación: 2024-05-08\\nÚltima Modificación: 2024-05-08\\nVersión: 1.1.0\\n\\nDescripción:\\nEste script crea los buckets necesarios en MinIO para soportar la arquitectura\\npor capas de un Data Lake:\\n- dev-bronze: datos crudos\\n- dev-silver: datos refinados\\n- dev-diamond: datos validados o enriquecidos\\n- dev-gold: datos listos para consumo analítico\\n\\nDependencias:\\n- Python >= 3.8\\n- Librerías: boto3, python-dotenv\\n'"
      ]
     },
     "execution_count": 32,
     "metadata": {},
     "output_type": "execute_result"
    }
   ],
   "source": [
    "\"\"\"\n",
    "================================================================================\n",
    "Nombre del Script: crear_buckets_minio.py\n",
    "Autor: Félix Cárdenas\n",
    "Fecha de Creación: 2024-05-08\n",
    "Última Modificación: 2024-05-08\n",
    "Versión: 1.1.0\n",
    "\n",
    "Descripción:\n",
    "Este script crea los buckets necesarios en MinIO para soportar la arquitectura\n",
    "por capas de un Data Lake:\n",
    "- dev-bronze: datos crudos\n",
    "- dev-silver: datos refinados\n",
    "- dev-diamond: datos validados o enriquecidos\n",
    "- dev-gold: datos listos para consumo analítico\n",
    "\n",
    "Dependencias:\n",
    "- Python >= 3.8\n",
    "- Librerías: boto3, python-dotenv\n",
    "\"\"\""
   ]
  },
  {
   "cell_type": "code",
   "execution_count": 33,
   "id": "fc1bbc48",
   "metadata": {},
   "outputs": [],
   "source": [
    "# ================================================================================\n",
    "# PASO 1: SECCIÓN DE IMPORTACIÓN DE LIBRERÍAS\n",
    "# ================================================================================\n",
    "import os\n",
    "import sys\n",
    "import logging\n",
    "from dotenv import load_dotenv\n",
    "import boto3\n",
    "from botocore.exceptions import ClientError"
   ]
  },
  {
   "cell_type": "code",
   "execution_count": 34,
   "id": "1be5609c",
   "metadata": {},
   "outputs": [],
   "source": [
    "# ================================================================================\n",
    "# PASO 2: CONFIGURACIÓN DE VARIABLES DE ENTORNO\n",
    "# ================================================================================\n",
    "load_dotenv(\"/home/jovyan/.env\")\n",
    "\n",
    "MINIO_ENDPOINT = os.getenv(\"MINIO_ENDPOINT\")\n",
    "MINIO_ACCESS_KEY = os.getenv(\"MINIO_ROOT_USER\")\n",
    "MINIO_SECRET_KEY = os.getenv(\"MINIO_ROOT_PASSWORD\")\n",
    "\n",
    "BUCKETS = [\n",
    "    os.getenv(\"MINIO_BUCKET_BRONZE\"),\n",
    "    os.getenv(\"MINIO_BUCKET_SILVER\"),\n",
    "    os.getenv(\"MINIO_BUCKET_DIAMOND\"),\n",
    "    os.getenv(\"MINIO_BUCKET_GOLD\")\n",
    "]\n",
    "\n",
    "# Configuración del logging\n",
    "logging.basicConfig(level=logging.INFO,\n",
    "                    format='%(asctime)s - %(levelname)s - %(message)s')\n",
    "logger = logging.getLogger(__name__)\n"
   ]
  },
  {
   "cell_type": "code",
   "execution_count": 35,
   "id": "88c5773b",
   "metadata": {},
   "outputs": [],
   "source": [
    "# ================================================================================\n",
    "# PASO 3: DECLARACIÓN DE FUNCIONES\n",
    "# ================================================================================\n",
    "\n",
    "# Función Crea un solo bucket en MinIO si no existe previamente.\n",
    "def crear_bucket(bucket_name: str) -> None:\n",
    "    \"\"\"\n",
    "    Crea un bucket en MinIO si no existe.\n",
    "\n",
    "    Parámetros:\n",
    "    - bucket_name (str): nombre del bucket a crear.\n",
    "    \"\"\"\n",
    "    s3 = boto3.client(\n",
    "        \"s3\",\n",
    "        endpoint_url=MINIO_ENDPOINT,\n",
    "        aws_access_key_id=MINIO_ACCESS_KEY,\n",
    "        aws_secret_access_key=MINIO_SECRET_KEY\n",
    "    )\n",
    "    try:\n",
    "        s3.head_bucket(Bucket=bucket_name)\n",
    "        logger.info(f\"El bucket '{bucket_name}' ya existe.\")\n",
    "    except ClientError as e:\n",
    "        error_code = int(e.response[\"Error\"][\"Code\"])\n",
    "        if error_code == 404:\n",
    "            s3.create_bucket(Bucket=bucket_name)\n",
    "            logger.info(f\"Bucket '{bucket_name}' creado.\")\n",
    "        else:\n",
    "            logger.error(f\"Error al crear/verificar bucket '{bucket_name}': {e}\")\n",
    "            sys.exit(1)\n",
    "\n",
    "# Función Recorre una lista de buckets y los crea si no existen.\n",
    "def crear_todos_los_buckets(buckets: list) -> None:\n",
    "    \"\"\"\n",
    "    Crea todos los buckets listados si no existen.\n",
    "    \n",
    "    Parámetros:\n",
    "    - buckets (list): lista de nombres de buckets\n",
    "    \"\"\"\n",
    "    logger.info(\"Iniciando creación de buckets...\")\n",
    "    for bucket in buckets:\n",
    "        if bucket:\n",
    "            crear_bucket(bucket)\n",
    "        else:\n",
    "            logger.warning(\"Nombre de bucket no definido en .env\")"
   ]
  },
  {
   "cell_type": "code",
   "execution_count": 36,
   "id": "a38d1172",
   "metadata": {},
   "outputs": [
    {
     "name": "stderr",
     "output_type": "stream",
     "text": [
      "2025-05-08 18:22:34,431 - INFO - Comenzando ejecución del script crear_buckets_minio.py\n",
      "2025-05-08 18:22:34,432 - INFO - Iniciando creación de buckets...\n",
      "2025-05-08 18:22:34,441 - INFO - El bucket 'dev-bronze' ya existe.\n",
      "2025-05-08 18:22:34,450 - INFO - El bucket 'dev-silver' ya existe.\n",
      "2025-05-08 18:22:34,457 - INFO - El bucket 'dev-diamond' ya existe.\n",
      "2025-05-08 18:22:34,464 - INFO - El bucket 'dev-gold' ya existe.\n",
      "2025-05-08 18:22:34,465 - INFO - Todos los buckets fueron verificados o creados correctamente.\n"
     ]
    }
   ],
   "source": [
    "# ================================================================================\n",
    "# PASO 4: EJECUCIÓN DEL SCRIPT\n",
    "# ================================================================================\n",
    "if __name__ == '__main__':\n",
    "    logger.info(\"Comenzando ejecución del script crear_buckets_minio.py\")\n",
    "    crear_todos_los_buckets(BUCKETS)\n",
    "    logger.info(\"Todos los buckets fueron verificados o creados correctamente.\")"
   ]
  }
 ],
 "metadata": {
  "kernelspec": {
   "display_name": "Python 3 (ipykernel)",
   "language": "python",
   "name": "python3"
  }
 },
 "nbformat": 4,
 "nbformat_minor": 5
}
