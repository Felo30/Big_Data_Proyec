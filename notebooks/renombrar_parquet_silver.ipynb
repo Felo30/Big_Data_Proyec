{
 "cells": [
  {
   "cell_type": "code",
   "execution_count": null,
   "id": "565def6d",
   "metadata": {},
   "outputs": [
    {
     "data": {
      "text/plain": [
       "'\\n================================================================================\\nNombre del Script: mover_a_diamond_con_nombre.py\\nAutor: Félix Cárdenas\\nFecha de Creación: 2025-05-15\\nVersión: 1.0.0\\n\\nDescripción:\\nEste script busca el archivo Parquet más reciente generado por Spark\\nen la capa SILVER (dev-silver/LOCAL_PACIENTES/...), y lo copia a la capa\\nDIAMOND con un nombre legible y limpio: pacientes_refinados_{timestamp}.parquet.\\n\\nNo elimina nada del origen.\\n================================================================================\\n'"
      ]
     },
     "execution_count": 3,
     "metadata": {},
     "output_type": "execute_result"
    }
   ],
   "source": [
    "\"\"\"\n",
    "================================================================================\n",
    "Nombre del Script: mover_a_diamond_con_nombre_especifico.py\n",
    "Autor: Félix Cárdenas\n",
    "Fecha de Creación: 2025-05-15\n",
    "Versión: 1.0.0\n",
    "\n",
    "Descripción:\n",
    "Este script busca el archivo Parquet más reciente generado por Spark\n",
    "en la capa SILVER (dev-silver/LOCAL_PACIENTES/...), y lo copia a la capa\n",
    "DIAMOND con un nombre legible y limpio: pacientes_refinados_{timestamp}.parquet.\n",
    "\n",
    "No elimina nada del origen.\n",
    "================================================================================\n",
    "\"\"\""
   ]
  },
  {
   "cell_type": "code",
   "execution_count": 4,
   "id": "effa3673",
   "metadata": {},
   "outputs": [],
   "source": [
    "# ================================================================================\n",
    "# PASO 1: IMPORTACIÓN DE LIBRERÍAS Y VARIABLES DE ENTORNO\n",
    "# ================================================================================\n",
    "import os\n",
    "from datetime import datetime\n",
    "from dotenv import load_dotenv\n",
    "import boto3\n",
    "\n",
    "load_dotenv(\"/home/jovyan/.env\")\n",
    "\n",
    "MINIO_ENDPOINT    = os.getenv(\"MINIO_ENDPOINT\")\n",
    "MINIO_ACCESS_KEY  = os.getenv(\"MINIO_ROOT_USER\")\n",
    "MINIO_SECRET_KEY  = os.getenv(\"MINIO_ROOT_PASSWORD\")\n",
    "BUCKET_SILVER     = os.getenv(\"MINIO_BUCKET_SILVER\")\n",
    "BUCKET_DIAMOND    = os.getenv(\"MINIO_BUCKET_DIAMOND\")"
   ]
  },
  {
   "cell_type": "code",
   "execution_count": 5,
   "id": "056b31b8",
   "metadata": {},
   "outputs": [],
   "source": [
    "# ================================================================================\n",
    "# PASO 2: CONEXIÓN A MINIO Y DETECCIÓN DE ARCHIVO MÁS RECIENTE\n",
    "# ================================================================================\n",
    "s3 = boto3.client(\"s3\",\n",
    "    endpoint_url=MINIO_ENDPOINT,\n",
    "    aws_access_key_id=MINIO_ACCESS_KEY,\n",
    "    aws_secret_access_key=MINIO_SECRET_KEY\n",
    ")\n",
    "\n",
    "prefix = \"LOCAL_PACIENTES/pacientes_refinados_\"\n",
    "objetos = s3.list_objects_v2(Bucket=BUCKET_SILVER, Prefix=prefix)\n",
    "\n",
    "# Buscar el part-*.parquet más reciente\n",
    "archivos = [\n",
    "    obj[\"Key\"] for obj in objetos.get(\"Contents\", [])\n",
    "    if \"part-\" in obj[\"Key\"] and obj[\"Key\"].endswith(\".parquet\")\n",
    "]\n",
    "\n",
    "if not archivos:\n",
    "    raise FileNotFoundError(\"No se encontró ningún archivo .parquet en SILVER.\")\n",
    "\n",
    "archivo_mas_reciente = sorted(archivos, reverse=True)[0]\n",
    "\n",
    "# Extraer timestamp del path\n",
    "timestamp = archivo_mas_reciente.split(\"_\")[-1].replace(\".parquet/part-\", \"\").split(\"-\")[0]\n",
    "nuevo_nombre = f\"LOCAL_PACIENTES/pacientes_refinados_{timestamp}.parquet\""
   ]
  },
  {
   "cell_type": "code",
   "execution_count": null,
   "id": "797def9f",
   "metadata": {},
   "outputs": [
    {
     "name": "stdout",
     "output_type": "stream",
     "text": [
      "✅ Archivo copiado a DIAMOND correctamente:\n",
      "🔹 Desde: LOCAL_PACIENTES/pacientes_refinados_202505151512.parquet/part-00000-b90c2e9a-fd45-4cd5-be59-19d0a59ccc34-c000.snappy.parquet\n",
      "🔸 Hacia: LOCAL_PACIENTES/pacientes_refinados_20250515151200000.parquet\n"
     ]
    }
   ],
   "source": [
    "# ================================================================================\n",
    "# PASO 3: COPIAR ARCHIVO A DIAMOND CON NOMBRE LIMPIO\n",
    "# ================================================================================\n",
    "s3.copy_object(\n",
    "    Bucket=BUCKET_DIAMOND,\n",
    "    CopySource={'Bucket': BUCKET_SILVER, 'Key': archivo_mas_reciente},\n",
    "    Key=nuevo_nombre\n",
    ")"
   ]
  }
 ],
 "metadata": {
  "kernelspec": {
   "display_name": "Python 3 (ipykernel)",
   "language": "python",
   "name": "python3"
  },
  "language_info": {
   "codemirror_mode": {
    "name": "ipython",
    "version": 3
   },
   "file_extension": ".py",
   "mimetype": "text/x-python",
   "name": "python",
   "nbconvert_exporter": "python",
   "pygments_lexer": "ipython3",
   "version": "3.11.6"
  }
 },
 "nbformat": 4,
 "nbformat_minor": 5
}
