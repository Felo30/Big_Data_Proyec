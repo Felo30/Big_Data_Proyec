{
 "cells": [
  {
   "cell_type": "code",
   "execution_count": 3,
   "id": "5c9f6df3",
   "metadata": {},
   "outputs": [],
   "source": [
    "from pyspark.sql import SparkSession\n",
    "from dotenv import load_dotenv\n",
    "import os"
   ]
  },
  {
   "cell_type": "code",
   "execution_count": 4,
   "id": "dac33506",
   "metadata": {},
   "outputs": [
    {
     "data": {
      "text/plain": [
       "True"
      ]
     },
     "execution_count": 4,
     "metadata": {},
     "output_type": "execute_result"
    }
   ],
   "source": [
    "# Cargar variables del entorno\n",
    "load_dotenv(\"/home/jovyan/.env\")"
   ]
  },
  {
   "cell_type": "code",
   "execution_count": 5,
   "id": "9283a2c5",
   "metadata": {},
   "outputs": [],
   "source": [
    "# Acceder a las credenciales\n",
    "MINIO_ENDPOINT = os.getenv(\"MINIO_ENDPOINT\")\n",
    "MINIO_ACCESS_KEY = os.getenv(\"MINIO_ROOT_USER\")\n",
    "MINIO_SECRET_KEY = os.getenv(\"MINIO_ROOT_PASSWORD\")\n",
    "BUCKET = os.getenv(\"MINIO_BUCKET_BRONZE\")  # Podés probar con SILVER si querés"
   ]
  },
  {
   "cell_type": "code",
   "execution_count": 6,
   "id": "54e00a12",
   "metadata": {},
   "outputs": [
    {
     "name": "stdout",
     "output_type": "stream",
     "text": [
      "dev-bronze\n"
     ]
    }
   ],
   "source": [
    "print(BUCKET)"
   ]
  },
  {
   "cell_type": "code",
   "execution_count": 7,
   "id": "61dd1cab",
   "metadata": {},
   "outputs": [
    {
     "name": "stderr",
     "output_type": "stream",
     "text": [
      "25/05/15 14:46:46 WARN NativeCodeLoader: Unable to load native-hadoop library for your platform... using builtin-java classes where applicable\n",
      "Setting default log level to \"WARN\".\n",
      "To adjust logging level use sc.setLogLevel(newLevel). For SparkR, use setLogLevel(newLevel).\n"
     ]
    }
   ],
   "source": [
    "# Crear sesión Spark con soporte para s3a\n",
    "spark = SparkSession.builder \\\n",
    "    .appName(\"Test MinIO\") \\\n",
    "    .config(\"spark.jars\", \"/usr/local/spark/jars/hadoop-aws-3.3.4.jar,/usr/local/spark/jars/aws-java-sdk-bundle-1.11.901.jar\") \\\n",
    "    .config(\"spark.hadoop.fs.s3a.endpoint\", MINIO_ENDPOINT) \\\n",
    "    .config(\"spark.hadoop.fs.s3a.access.key\", MINIO_ACCESS_KEY) \\\n",
    "    .config(\"spark.hadoop.fs.s3a.secret.key\", MINIO_SECRET_KEY) \\\n",
    "    .config(\"spark.hadoop.fs.s3a.path.style.access\", \"true\") \\\n",
    "    .config(\"spark.hadoop.fs.s3a.impl\", \"org.apache.hadoop.fs.s3a.S3AFileSystem\") \\\n",
    "    .getOrCreate()"
   ]
  },
  {
   "cell_type": "code",
   "execution_count": 8,
   "id": "1be9dd36",
   "metadata": {},
   "outputs": [],
   "source": [
    "# Crear un DataFrame de prueba\n",
    "df = spark.createDataFrame([\n",
    "    (\"Lisandro\", 3),\n",
    "    (\"Paola\", 34),\n",
    "    (\"Felo\", 24)\n",
    "], [\"nombre\", \"edad\"])"
   ]
  },
  {
   "cell_type": "code",
   "execution_count": 9,
   "id": "f377f930",
   "metadata": {},
   "outputs": [
    {
     "name": "stderr",
     "output_type": "stream",
     "text": [
      "                                                                                \r"
     ]
    },
    {
     "name": "stdout",
     "output_type": "stream",
     "text": [
      "+--------+----+\n",
      "|  nombre|edad|\n",
      "+--------+----+\n",
      "|Lisandro|   3|\n",
      "|   Paola|  34|\n",
      "|    Felo|  24|\n",
      "+--------+----+\n",
      "\n"
     ]
    }
   ],
   "source": [
    "df.show()"
   ]
  },
  {
   "cell_type": "code",
   "execution_count": 10,
   "id": "f24d5e24",
   "metadata": {},
   "outputs": [],
   "source": [
    "# Guardar como Parquet en MinIO (bucket BRONZE)\n",
    "output_path = f\"s3a://{BUCKET}/test_spark_parquet\""
   ]
  },
  {
   "cell_type": "code",
   "execution_count": 11,
   "id": "c3e28265",
   "metadata": {},
   "outputs": [
    {
     "name": "stdout",
     "output_type": "stream",
     "text": [
      "s3a://dev-bronze/test_spark_parquet\n"
     ]
    }
   ],
   "source": [
    "print(output_path)"
   ]
  },
  {
   "cell_type": "code",
   "execution_count": 12,
   "id": "e812b715",
   "metadata": {},
   "outputs": [],
   "source": [
    "df = df.repartition(1)"
   ]
  },
  {
   "cell_type": "code",
   "execution_count": 13,
   "id": "4b951b45",
   "metadata": {},
   "outputs": [
    {
     "name": "stderr",
     "output_type": "stream",
     "text": [
      "25/05/15 14:46:53 WARN MetricsConfig: Cannot locate configuration: tried hadoop-metrics2-s3a-file-system.properties,hadoop-metrics2.properties\n",
      "                                                                                \r"
     ]
    },
    {
     "name": "stdout",
     "output_type": "stream",
     "text": [
      "✅ Archivo guardado en s3a://dev-bronze/test_spark_parquet\n"
     ]
    }
   ],
   "source": [
    "df.write.mode(\"overwrite\").parquet(output_path)\n",
    "\n",
    "print(f\"✅ Archivo guardado en {output_path}\")"
   ]
  }
 ],
 "metadata": {
  "kernelspec": {
   "display_name": "Python 3 (ipykernel)",
   "language": "python",
   "name": "python3"
  },
  "language_info": {
   "codemirror_mode": {
    "name": "ipython",
    "version": 3
   },
   "file_extension": ".py",
   "mimetype": "text/x-python",
   "name": "python",
   "nbconvert_exporter": "python",
   "pygments_lexer": "ipython3",
   "version": "3.11.6"
  }
 },
 "nbformat": 4,
 "nbformat_minor": 5
}
