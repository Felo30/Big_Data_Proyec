{
 "cells": [
  {
   "cell_type": "code",
   "execution_count": 1,
   "id": "5d9f0695",
   "metadata": {},
   "outputs": [
    {
     "data": {
      "text/plain": [
       "'\\n================================================================================\\nNombre del Script: guardar_csv_bronze.py\\nAutor: Félix Cárdenas\\nFecha de Creación: 2025-05-08\\nÚltima Modificación: 2025-05-08\\nVersión: 1.0.0\\n\\nDescripción:\\nEste script forma parte de la capa BRONZE del proyecto BigData_Project.\\nSu propósito es guardar el dataset de pacientes en formato CSV en el bucket \\n`dev-bronze` de MinIO, usando Pandas y Boto3.\\n\\nDependencias:\\n- Python >= 3.8\\n- Librerías: pandas, boto3, dotenv\\n'"
      ]
     },
     "execution_count": 1,
     "metadata": {},
     "output_type": "execute_result"
    }
   ],
   "source": [
    "\"\"\"\n",
    "================================================================================\n",
    "Nombre del Script: guardar_csv_bronze.py\n",
    "Autor: Félix Cárdenas\n",
    "Fecha de Creación: 2025-05-08\n",
    "Última Modificación: 2025-05-08\n",
    "Versión: 1.0.0\n",
    "\n",
    "Descripción:\n",
    "Este script forma parte de la capa BRONZE del proyecto BigData_Project.\n",
    "Su propósito es guardar el dataset de pacientes en formato CSV en el bucket \n",
    "`dev-bronze` de MinIO, usando Pandas y Boto3.\n",
    "\n",
    "Dependencias:\n",
    "- Python >= 3.8\n",
    "- Librerías: pandas, boto3, dotenv\n",
    "\"\"\""
   ]
  },
  {
   "cell_type": "code",
   "execution_count": 2,
   "id": "9f69394f",
   "metadata": {},
   "outputs": [],
   "source": [
    "# ================================================================================\n",
    "# PASO 1: IMPORTACIÓN DE LIBRERÍAS\n",
    "# ================================================================================\n",
    "import os\n",
    "import logging\n",
    "from io import BytesIO\n",
    "from datetime import datetime\n",
    "from dotenv import load_dotenv\n",
    "import boto3\n",
    "import pandas as pd"
   ]
  },
  {
   "cell_type": "code",
   "execution_count": 3,
   "id": "9a60d64c",
   "metadata": {},
   "outputs": [],
   "source": [
    "# ================================================================================\n",
    "# PASO 2: CARGA DE VARIABLES DE ENTORNO\n",
    "# ================================================================================\n",
    "load_dotenv(\"/home/jovyan/.env\")\n",
    "\n",
    "MINIO_ENDPOINT     = os.getenv(\"MINIO_ENDPOINT\")\n",
    "MINIO_ACCESS_KEY   = os.getenv(\"MINIO_ROOT_USER\")\n",
    "MINIO_SECRET_KEY   = os.getenv(\"MINIO_ROOT_PASSWORD\")\n",
    "BUCKET_BRONZE      = os.getenv(\"MINIO_BUCKET_BRONZE\")\n",
    "\n",
    "ORIGEN             = \"local\"\n",
    "DOMINIO            = \"pacientes\"\n",
    "timestamp          = datetime.now().strftime(\"%Y%m%d%H%M\")\n",
    "archivo_csv        = f\"origen_pacientes_{timestamp}.csv\"\n",
    "key_minio          = f\"{ORIGEN}/{DOMINIO}/{archivo_csv}\"\n",
    "ruta_csv_local     = \"/home/jovyan/datos/csv/pacientes_crudo.csv\""
   ]
  },
  {
   "cell_type": "code",
   "execution_count": 4,
   "id": "9a104046",
   "metadata": {},
   "outputs": [],
   "source": [
    "# ================================================================================\n",
    "# PASO 3: LOGGING\n",
    "# ================================================================================\n",
    "logging.basicConfig(level=logging.INFO, format='%(asctime)s - %(levelname)s - %(message)s')\n",
    "logger = logging.getLogger(__name__)"
   ]
  },
  {
   "cell_type": "code",
   "execution_count": 5,
   "id": "6f501259",
   "metadata": {},
   "outputs": [
    {
     "name": "stderr",
     "output_type": "stream",
     "text": [
      "2025-05-09 17:12:40,554 - INFO - Leyendo el archivo CSV local...\n",
      "2025-05-09 17:12:41,250 - INFO - Archivo leído correctamente con 1000000 registros.\n"
     ]
    }
   ],
   "source": [
    "# ================================================================================\n",
    "# PASO 4: LECTURA DEL CSV LOCAL Y CONVERSIÓN\n",
    "# ================================================================================\n",
    "logger.info(\"Leyendo el archivo CSV local...\")\n",
    "df = pd.read_csv(ruta_csv_local)\n",
    "logger.info(f\"Archivo leído correctamente con {len(df)} registros.\")"
   ]
  },
  {
   "cell_type": "code",
   "execution_count": 6,
   "id": "20c90375",
   "metadata": {},
   "outputs": [
    {
     "name": "stderr",
     "output_type": "stream",
     "text": [
      "2025-05-09 17:12:41,260 - INFO - Conectando a MinIO y guardando en s3://dev-bronze/local/pacientes/origen_pacientes_202505091712.csv...\n",
      "2025-05-09 17:12:42,885 - INFO - ✅ Archivo guardado exitosamente en MinIO.\n"
     ]
    }
   ],
   "source": [
    "# ================================================================================\n",
    "# PASO 5: GUARDADO EN MinIO COMO CSV\n",
    "# ================================================================================\n",
    "logger.info(f\"Conectando a MinIO y guardando en s3://{BUCKET_BRONZE}/{key_minio}...\")\n",
    "s3 = boto3.client(\n",
    "    \"s3\",\n",
    "    endpoint_url=MINIO_ENDPOINT,\n",
    "    aws_access_key_id=MINIO_ACCESS_KEY,\n",
    "    aws_secret_access_key=MINIO_SECRET_KEY\n",
    ")\n",
    "\n",
    "buffer = BytesIO()\n",
    "df.to_csv(buffer, index=False)\n",
    "buffer.seek(0)\n",
    "\n",
    "s3.upload_fileobj(buffer, BUCKET_BRONZE, key_minio)\n",
    "logger.info(\"✅ Archivo guardado exitosamente en MinIO.\")"
   ]
  }
 ],
 "metadata": {
  "kernelspec": {
   "display_name": "Python 3 (ipykernel)",
   "language": "python",
   "name": "python3"
  },
  "language_info": {
   "codemirror_mode": {
    "name": "ipython",
    "version": 3
   },
   "file_extension": ".py",
   "mimetype": "text/x-python",
   "name": "python",
   "nbconvert_exporter": "python",
   "pygments_lexer": "ipython3",
   "version": "3.11.6"
  }
 },
 "nbformat": 4,
 "nbformat_minor": 5
}
