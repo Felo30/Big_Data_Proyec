{
 "cells": [
  {
   "cell_type": "code",
   "execution_count": null,
   "id": "4a340a9d",
   "metadata": {},
   "outputs": [
    {
     "data": {
      "text/plain": [
       "'\\n================================================================================\\n Nombre del Script: refinar_pacientes_silver.py\\n# Autor: Félix Cárdenas\\n# Fecha de Creación: 2025-05-08\\n# Última Modificación: 2025-05-15\\n# Versión: 2.0.0\\n#\\n# Descripción:\\n# Este script forma parte de la capa SILVER del proyecto BigData_Project.\\n# Lee el archivo más reciente desde MinIO (en formato CSV dentro de carpeta con timestamp)\\n# y aplica reglas de calidad con Spark. Luego guarda el resultado como archivo Parquet\\n# en el bucket dev-silver, también con nombre versionado.\\n'"
      ]
     },
     "execution_count": 9,
     "metadata": {},
     "output_type": "execute_result"
    }
   ],
   "source": [
    "\"\"\"\n",
    " Nombre del Script: refinar_pacientes_silver.py\n",
    " Autor: Félix Cárdenas\n",
    " Fecha de Creación: 2025-05-08\n",
    " Última Modificación: 2025-05-15\n",
    " Versión: 2.0.0\n",
    "\n",
    " Descripción:\n",
    " Este script forma parte de la capa SILVER del proyecto BigData_Project.\n",
    " Lee el archivo más reciente desde MinIO (en formato CSV dentro de carpeta con timestamp)\n",
    " y aplica reglas de calidad con Spark. Luego guarda el resultado como archivo Parquet\n",
    " en el bucket dev-silver, también con nombre versionado.\n",
    "\"\"\""
   ]
  },
  {
   "cell_type": "code",
   "execution_count": null,
   "id": "208319ea",
   "metadata": {},
   "outputs": [],
   "source": [
    "# ================================================================================\n",
    "# PASO 1: IMPORTACIÓN DE LIBRERÍAS\n",
    "# ================================================================================\n",
    "import os\n",
    "from datetime import datetime\n",
    "from pathlib import Path\n",
    "from dotenv import load_dotenv\n",
    "import boto3\n",
    "from pyspark.sql import SparkSession\n",
    "from pyspark.sql.functions import col, split, to_date\n"
   ]
  },
  {
   "cell_type": "code",
   "execution_count": null,
   "id": "0f98c617",
   "metadata": {},
   "outputs": [],
   "source": [
    "# ================================================================================\n",
    "# PASO 2: CARGA DE VARIABLES DE ENTORNO\n",
    "# ================================================================================\n",
    "load_dotenv(\"/home/jovyan/.env\")\n",
    "\n",
    "MINIO_ENDPOINT    = os.getenv(\"MINIO_ENDPOINT\")\n",
    "MINIO_ACCESS_KEY  = os.getenv(\"MINIO_ROOT_USER\")\n",
    "MINIO_SECRET_KEY  = os.getenv(\"MINIO_ROOT_PASSWORD\")\n",
    "BUCKET_BRONZE     = os.getenv(\"MINIO_BUCKET_BRONZE\")\n",
    "BUCKET_SILVER     = os.getenv(\"MINIO_BUCKET_SILVER\")\n"
   ]
  },
  {
   "cell_type": "code",
   "execution_count": 21,
   "id": "10e0a711",
   "metadata": {},
   "outputs": [],
   "source": [
    "# ================================================================================\n",
    "# PASO 3: CREACIÓN DE SPARKSESSION\n",
    "# ================================================================================\n",
    "spark = SparkSession.builder \\\n",
    "    .appName(\"Transformacion Silver\") \\\n",
    "    .config(\"spark.hadoop.fs.s3a.endpoint\", MINIO_ENDPOINT) \\\n",
    "    .config(\"spark.hadoop.fs.s3a.access.key\", MINIO_ACCESS_KEY) \\\n",
    "    .config(\"spark.hadoop.fs.s3a.secret.key\", MINIO_SECRET_KEY) \\\n",
    "    .config(\"spark.hadoop.fs.s3a.path.style.access\", \"true\") \\\n",
    "    .config(\"spark.hadoop.fs.s3a.impl\", \"org.apache.hadoop.fs.s3a.S3AFileSystem\") \\\n",
    "    .config(\"spark.jars\", \"/usr/local/spark/jars/hadoop-aws-3.3.4.jar,/usr/local/spark/jars/aws-java-sdk-bundle-1.11.901.jar\") \\\n",
    "    .getOrCreate()\n"
   ]
  },
  {
   "cell_type": "code",
   "execution_count": null,
   "id": "7d662c25",
   "metadata": {},
   "outputs": [],
   "source": [
    "# ================================================================================  \n",
    "# PASO 4: DETECCIÓN DE ARCHIVO MÁS RECIENTE EN MinIO (BRONZE)\n",
    "# ================================================================================  \n",
    "\n",
    "s3 = boto3.client(\"s3\", endpoint_url=MINIO_ENDPOINT,\n",
    "    aws_access_key_id=MINIO_ACCESS_KEY,\n",
    "    aws_secret_access_key=MINIO_SECRET_KEY)\n",
    "\n",
    "prefix = \"LOCAL_PACIENTES/\"\n",
    "today = datetime.now().strftime(\"%Y%m%d\")\n",
    "\n",
    "objetos = s3.list_objects_v2(Bucket=BUCKET_BRONZE, Prefix=prefix)\n",
    "archivos = [\n",
    "    obj[\"Key\"] for obj in objetos.get(\"Contents\", [])\n",
    "    if today in obj[\"Key\"] and \"part-\" in obj[\"Key\"]\n",
    "]\n",
    "\n",
    "if not archivos:\n",
    "    raise FileNotFoundError(f\"No se encontró ningún archivo CSV para hoy: {today}\")\n",
    "\n",
    "archivo_mas_reciente = sorted(archivos, reverse=True)[0]\n",
    "ruta_s3a = f\"s3a://{BUCKET_BRONZE}/{archivo_mas_reciente}\""
   ]
  },
  {
   "cell_type": "code",
   "execution_count": null,
   "id": "58b46eaa",
   "metadata": {},
   "outputs": [],
   "source": [
    "# ================================================================================  \n",
    "# PASO 5: LECTURA DEL ARCHIVO + TRANSFORMACIÓN DE CALIDAD CON SPARK\n",
    "# ================================================================================  \n",
    "\n",
    "df = spark.read.option(\"header\", True).csv(ruta_s3a)\n",
    "\n",
    "df_limpio = df \\\n",
    "    .filter(col(\"nombre\").isNotNull() & (col(\"nombre\") != \"\")) \\\n",
    "    .filter((col(\"edad\") > 0) & (col(\"edad\") < 120)) \\\n",
    "    .filter(col(\"obra_social\").isNotNull() & (col(\"obra_social\") != \"\")) \\\n",
    "    .withColumn(\"fecha_turno\", split(col(\"fecha_turno\"), \" \").getItem(0)) \\\n",
    "    .withColumn(\"fecha_turno\", to_date(\"fecha_turno\", \"yyyy-MM-dd\")) \\\n",
    "    .dropna(subset=[\"fecha_turno\"]) \\\n",
    "    .dropDuplicates()\n"
   ]
  },
  {
   "cell_type": "code",
   "execution_count": null,
   "id": "bd5f9312",
   "metadata": {},
   "outputs": [
    {
     "name": "stderr",
     "output_type": "stream",
     "text": [
      "[Stage 8:>                                                          (0 + 1) / 1]\r"
     ]
    },
    {
     "name": "stdout",
     "output_type": "stream",
     "text": [
      "✅ Archivo transformado y guardado en SILVER: s3a://dev-silver/LOCAL_PACIENTES/pacientes_refinados_202505151512.parquet\n"
     ]
    },
    {
     "name": "stderr",
     "output_type": "stream",
     "text": [
      "                                                                                \r"
     ]
    }
   ],
   "source": [
    "# ================================================================================  \n",
    "# PASO 6: GUARDADO FINAL COMO PARQUET EN MinIO (SILVER)\n",
    "# ================================================================================  \n",
    "\n",
    "nombre_archivo = f\"pacientes_refinados_{datetime.now().strftime('%Y%m%d%H%M')}.parquet\"\n",
    "ruta_output = f\"s3a://{BUCKET_SILVER}/LOCAL_PACIENTES/{nombre_archivo}\"\n",
    "\n",
    "df_limpio.repartition(1).write.mode(\"overwrite\").parquet(ruta_output)\n"
   ]
  }
 ],
 "metadata": {
  "kernelspec": {
   "display_name": "Python 3 (ipykernel)",
   "language": "python",
   "name": "python3"
  },
  "language_info": {
   "codemirror_mode": {
    "name": "ipython",
    "version": 3
   },
   "file_extension": ".py",
   "mimetype": "text/x-python",
   "name": "python",
   "nbconvert_exporter": "python",
   "pygments_lexer": "ipython3",
   "version": "3.11.6"
  }
 },
 "nbformat": 4,
 "nbformat_minor": 5
}
